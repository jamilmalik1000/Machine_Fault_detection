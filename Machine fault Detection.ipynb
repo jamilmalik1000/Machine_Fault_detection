{
  "cells": [
    {
      "cell_type": "code",
      "execution_count": 19,
      "metadata": {
        "colab": {
          "base_uri": "https://localhost:8080/"
        },
        "id": "TFvfBw8P2mrG",
        "outputId": "bb16484e-24e4-4fc5-bfe8-53fed6732e23"
      },
      "outputs": [
        {
          "output_type": "stream",
          "name": "stdout",
          "text": [
            "Drive already mounted at /content/drive; to attempt to forcibly remount, call drive.mount(\"/content/drive\", force_remount=True).\n"
          ]
        }
      ],
      "source": [
        "from google.colab import drive\n",
        "drive.mount('/content/drive')\n"
      ]
    },
    {
      "cell_type": "code",
      "execution_count": 20,
      "metadata": {
        "colab": {
          "base_uri": "https://localhost:8080/"
        },
        "id": "rfBxiCKU8bFs",
        "outputId": "241aaa1f-1242-456b-a11c-bf872cc16124"
      },
      "outputs": [
        {
          "output_type": "stream",
          "name": "stdout",
          "text": [
            "Extraction completed!\n"
          ]
        }
      ],
      "source": [
        "import zipfile\n",
        "import os\n",
        "\n",
        "zip_path = \"/content/drive/My Drive/samples.zip\"  # Update this path\n",
        "extract_path = \"/content/dataset\"\n",
        "\n",
        "with zipfile.ZipFile(zip_path, 'r') as zip_ref:\n",
        "    zip_ref.extractall(extract_path)\n",
        "\n",
        "print(\"Extraction completed!\")\n"
      ]
    },
    {
      "cell_type": "code",
      "execution_count": null,
      "metadata": {
        "colab": {
          "base_uri": "https://localhost:8080/"
        },
        "id": "y7suCp379EPj",
        "outputId": "bcdae9f4-bc22-4b96-ef87-f4d51dc74a20"
      },
      "outputs": [
        {
          "name": "stdout",
          "output_type": "stream",
          "text": [
            "Requirement already satisfied: librosa in /usr/local/lib/python3.11/dist-packages (0.10.2.post1)\n",
            "Requirement already satisfied: audioread>=2.1.9 in /usr/local/lib/python3.11/dist-packages (from librosa) (3.0.1)\n",
            "Requirement already satisfied: numpy!=1.22.0,!=1.22.1,!=1.22.2,>=1.20.3 in /usr/local/lib/python3.11/dist-packages (from librosa) (2.0.2)\n",
            "Requirement already satisfied: scipy>=1.2.0 in /usr/local/lib/python3.11/dist-packages (from librosa) (1.14.1)\n",
            "Requirement already satisfied: scikit-learn>=0.20.0 in /usr/local/lib/python3.11/dist-packages (from librosa) (1.6.1)\n",
            "Requirement already satisfied: joblib>=0.14 in /usr/local/lib/python3.11/dist-packages (from librosa) (1.4.2)\n",
            "Requirement already satisfied: decorator>=4.3.0 in /usr/local/lib/python3.11/dist-packages (from librosa) (4.4.2)\n",
            "Requirement already satisfied: numba>=0.51.0 in /usr/local/lib/python3.11/dist-packages (from librosa) (0.60.0)\n",
            "Requirement already satisfied: soundfile>=0.12.1 in /usr/local/lib/python3.11/dist-packages (from librosa) (0.13.1)\n",
            "Requirement already satisfied: pooch>=1.1 in /usr/local/lib/python3.11/dist-packages (from librosa) (1.8.2)\n",
            "Requirement already satisfied: soxr>=0.3.2 in /usr/local/lib/python3.11/dist-packages (from librosa) (0.5.0.post1)\n",
            "Requirement already satisfied: typing-extensions>=4.1.1 in /usr/local/lib/python3.11/dist-packages (from librosa) (4.12.2)\n",
            "Requirement already satisfied: lazy-loader>=0.1 in /usr/local/lib/python3.11/dist-packages (from librosa) (0.4)\n",
            "Requirement already satisfied: msgpack>=1.0 in /usr/local/lib/python3.11/dist-packages (from librosa) (1.1.0)\n",
            "Requirement already satisfied: packaging in /usr/local/lib/python3.11/dist-packages (from lazy-loader>=0.1->librosa) (24.2)\n",
            "Requirement already satisfied: llvmlite<0.44,>=0.43.0dev0 in /usr/local/lib/python3.11/dist-packages (from numba>=0.51.0->librosa) (0.43.0)\n",
            "Requirement already satisfied: platformdirs>=2.5.0 in /usr/local/lib/python3.11/dist-packages (from pooch>=1.1->librosa) (4.3.6)\n",
            "Requirement already satisfied: requests>=2.19.0 in /usr/local/lib/python3.11/dist-packages (from pooch>=1.1->librosa) (2.32.3)\n",
            "Requirement already satisfied: threadpoolctl>=3.1.0 in /usr/local/lib/python3.11/dist-packages (from scikit-learn>=0.20.0->librosa) (3.6.0)\n",
            "Requirement already satisfied: cffi>=1.0 in /usr/local/lib/python3.11/dist-packages (from soundfile>=0.12.1->librosa) (1.17.1)\n",
            "Requirement already satisfied: pycparser in /usr/local/lib/python3.11/dist-packages (from cffi>=1.0->soundfile>=0.12.1->librosa) (2.22)\n",
            "Requirement already satisfied: charset-normalizer<4,>=2 in /usr/local/lib/python3.11/dist-packages (from requests>=2.19.0->pooch>=1.1->librosa) (3.4.1)\n",
            "Requirement already satisfied: idna<4,>=2.5 in /usr/local/lib/python3.11/dist-packages (from requests>=2.19.0->pooch>=1.1->librosa) (3.10)\n",
            "Requirement already satisfied: urllib3<3,>=1.21.1 in /usr/local/lib/python3.11/dist-packages (from requests>=2.19.0->pooch>=1.1->librosa) (2.3.0)\n",
            "Requirement already satisfied: certifi>=2017.4.17 in /usr/local/lib/python3.11/dist-packages (from requests>=2.19.0->pooch>=1.1->librosa) (2025.1.31)\n"
          ]
        }
      ],
      "source": [
        "!pip install librosa\n"
      ]
    },
    {
      "cell_type": "code",
      "execution_count": 21,
      "metadata": {
        "colab": {
          "base_uri": "https://localhost:8080/"
        },
        "id": "jN5CjDuJ9GwT",
        "outputId": "47402be9-68bb-4b58-d092-b1fdec90ef70"
      },
      "outputs": [
        {
          "output_type": "stream",
          "name": "stdout",
          "text": [
            "Folders created successfully!\n"
          ]
        }
      ],
      "source": [
        "import os\n",
        "import librosa\n",
        "import librosa.display\n",
        "import numpy as np\n",
        "import matplotlib.pyplot as plt\n",
        "import cv2\n",
        "\n",
        "# Set paths\n",
        "dataset_path = \"/content/dataset\"  # Path where extracted files are stored\n",
        "output_path = \"/content/processed_data\"\n",
        "\n",
        "# Create folders for each category\n",
        "categories = [\"Arcing\", \"Corona\", \"Looseness\", \"Tracking\"]\n",
        "for category in categories:\n",
        "    os.makedirs(os.path.join(output_path, category), exist_ok=True)\n",
        "\n",
        "print(\"Folders created successfully!\")\n"
      ]
    },
    {
      "cell_type": "code",
      "execution_count": 22,
      "metadata": {
        "colab": {
          "base_uri": "https://localhost:8080/"
        },
        "id": "tid43PLXAUYP",
        "outputId": "43adb98a-3dad-4e0e-dd99-d22d4719910b"
      },
      "outputs": [
        {
          "output_type": "stream",
          "name": "stdout",
          "text": [
            "Drive already mounted at /content/drive; to attempt to forcibly remount, call drive.mount(\"/content/drive\", force_remount=True).\n",
            "✅ Dataset folder found at /content/drive/My Drive/processed_data\n",
            "✅ Found: /content/drive/My Drive/processed_data/Arcing\n",
            "✅ Found: /content/drive/My Drive/processed_data/Corona\n",
            "✅ Found: /content/drive/My Drive/processed_data/Looseness\n",
            "✅ Found: /content/drive/My Drive/processed_data/Tracking\n"
          ]
        }
      ],
      "source": [
        "from google.colab import drive\n",
        "import os\n",
        "\n",
        "# Mount Google Drive\n",
        "drive.mount('/content/drive')\n",
        "\n",
        "# Set the dataset path\n",
        "dataset_path = \"/content/drive/My Drive/processed_data\"  # Update if necessary\n",
        "\n",
        "# Check if dataset folder exists\n",
        "if os.path.exists(dataset_path):\n",
        "    print(f\"✅ Dataset folder found at {dataset_path}\")\n",
        "else:\n",
        "    print(f\"❌ Dataset folder NOT found! Check Google Drive.\")\n",
        "\n",
        "# Check for category folders\n",
        "categories = [\"Arcing\", \"Corona\", \"Looseness\", \"Tracking\"]\n",
        "for category in categories:\n",
        "    category_path = os.path.join(dataset_path, category)\n",
        "    if os.path.exists(category_path):\n",
        "        print(f\"✅ Found: {category_path}\")\n",
        "    else:\n",
        "        print(f\"⚠️ MISSING: {category_path} (Check Google Drive!)\")\n"
      ]
    },
    {
      "cell_type": "code",
      "execution_count": 23,
      "metadata": {
        "colab": {
          "base_uri": "https://localhost:8080/"
        },
        "id": "ZmyEm48wGpYZ",
        "outputId": "eef115ad-5090-4c75-ee1b-826f2f1bc373"
      },
      "outputs": [
        {
          "output_type": "stream",
          "name": "stdout",
          "text": [
            "✅ Extracted 'samples.zip' to: /content/drive/My Drive/samples\n",
            "\n",
            "📂 Extracted folder contents:\n",
            "['__MACOSX', 'samples']\n"
          ]
        }
      ],
      "source": [
        "import zipfile\n",
        "import os\n",
        "\n",
        "# Define paths\n",
        "zip_path = \"/content/drive/My Drive/samples.zip\"  # Path to your ZIP file\n",
        "extract_path = \"/content/drive/My Drive/samples\"  # Folder to extract files\n",
        "\n",
        "# Ensure the ZIP file exists\n",
        "if os.path.exists(zip_path):\n",
        "    with zipfile.ZipFile(zip_path, 'r') as zip_ref:\n",
        "        zip_ref.extractall(extract_path)\n",
        "    print(f\"✅ Extracted 'samples.zip' to: {extract_path}\")\n",
        "else:\n",
        "    print(\"❌ ZIP file not found! Check Google Drive.\")\n",
        "\n",
        "# List extracted contents\n",
        "print(\"\\n📂 Extracted folder contents:\")\n",
        "print(os.listdir(extract_path))\n"
      ]
    },
    {
      "cell_type": "code",
      "execution_count": 24,
      "metadata": {
        "colab": {
          "base_uri": "https://localhost:8080/"
        },
        "id": "8btEHJ4HG1al",
        "outputId": "343979b3-7f43-4e98-ff0c-32e9b33e073b"
      },
      "outputs": [
        {
          "output_type": "stream",
          "name": "stdout",
          "text": [
            "✅ Moved all .wav files to: /content/drive/My Drive/samples\n",
            "\n",
            "📂 Updated 'samples' folder contents:\n",
            "['__MACOSX', 'Tracking (8).wav', 'Corona (16).wav', 'Corona (4).wav', 'Tracking (5).wav', 'Corona (8).wav', 'Looseness (2).wav', 'Tracking (9).wav', 'Tracking (2).wav', 'Looseness (9).wav', 'Corona (3).wav', 'Corona (10).wav', 'Looseness (5).wav', 'Looseness (4).wav', 'Looseness (11).wav', 'Corona (11).wav', 'Arcing (1).wav', 'Looseness (8).wav', 'Tracking (3).wav', 'Tracking (12).wav', 'Corona (1).wav', 'Arcing (2).wav', 'Tracking (11).wav', 'Looseness (7).wav', 'Looseness (6).wav', 'Tracking (10).wav', 'Tracking (1).wav', 'Arcing (3).wav', 'Corona (13).wav', 'Corona (18).wav', 'Corona (22).wav', 'Arcing (4).wav', 'Tracking (6).wav', 'Tracking (7).wav', 'Corona (6).wav', 'Corona (23).wav']\n"
          ]
        }
      ],
      "source": [
        "import shutil\n",
        "import os\n",
        "\n",
        "# Paths\n",
        "parent_folder = \"/content/drive/My Drive/samples\"\n",
        "subfolder = os.path.join(parent_folder, \"samples\")  # The extra \"samples\" folder\n",
        "\n",
        "# Check if the subfolder exists\n",
        "if os.path.exists(subfolder):\n",
        "    # Move all .wav files to the parent \"samples\" folder\n",
        "    for file in os.listdir(subfolder):\n",
        "        if file.endswith(\".wav\"):\n",
        "            shutil.move(os.path.join(subfolder, file), os.path.join(parent_folder, file))\n",
        "\n",
        "    print(f\"✅ Moved all .wav files to: {parent_folder}\")\n",
        "\n",
        "    # Optionally, delete the empty subfolder\n",
        "    os.rmdir(subfolder)\n",
        "else:\n",
        "    print(\"⚠️ No extra 'samples' folder found! Check manually.\")\n",
        "\n",
        "# List files in samples folder after moving\n",
        "print(\"\\n📂 Updated 'samples' folder contents:\")\n",
        "print(os.listdir(parent_folder))\n"
      ]
    },
    {
      "cell_type": "code",
      "execution_count": 25,
      "metadata": {
        "colab": {
          "base_uri": "https://localhost:8080/"
        },
        "id": "zXCJjpfQIkBY",
        "outputId": "790828b0-1b3d-49b2-89f1-2a8d3cffd117"
      },
      "outputs": [
        {
          "output_type": "stream",
          "name": "stdout",
          "text": [
            "✅ Moved: Tracking (8).wav → /content/drive/My Drive/processed_data/Tracking/Tracking (8).wav\n",
            "✅ Moved: Corona (16).wav → /content/drive/My Drive/processed_data/Corona/Corona (16).wav\n",
            "✅ Moved: Corona (4).wav → /content/drive/My Drive/processed_data/Corona/Corona (4).wav\n",
            "✅ Moved: Tracking (5).wav → /content/drive/My Drive/processed_data/Tracking/Tracking (5).wav\n",
            "✅ Moved: Corona (8).wav → /content/drive/My Drive/processed_data/Corona/Corona (8).wav\n",
            "✅ Moved: Looseness (2).wav → /content/drive/My Drive/processed_data/Looseness/Looseness (2).wav\n",
            "✅ Moved: Tracking (9).wav → /content/drive/My Drive/processed_data/Tracking/Tracking (9).wav\n",
            "✅ Moved: Tracking (2).wav → /content/drive/My Drive/processed_data/Tracking/Tracking (2).wav\n",
            "✅ Moved: Looseness (9).wav → /content/drive/My Drive/processed_data/Looseness/Looseness (9).wav\n",
            "✅ Moved: Corona (3).wav → /content/drive/My Drive/processed_data/Corona/Corona (3).wav\n",
            "✅ Moved: Corona (10).wav → /content/drive/My Drive/processed_data/Corona/Corona (10).wav\n",
            "✅ Moved: Looseness (5).wav → /content/drive/My Drive/processed_data/Looseness/Looseness (5).wav\n",
            "✅ Moved: Looseness (4).wav → /content/drive/My Drive/processed_data/Looseness/Looseness (4).wav\n",
            "✅ Moved: Looseness (11).wav → /content/drive/My Drive/processed_data/Looseness/Looseness (11).wav\n",
            "✅ Moved: Corona (11).wav → /content/drive/My Drive/processed_data/Corona/Corona (11).wav\n",
            "✅ Moved: Arcing (1).wav → /content/drive/My Drive/processed_data/Arcing/Arcing (1).wav\n",
            "✅ Moved: Looseness (8).wav → /content/drive/My Drive/processed_data/Looseness/Looseness (8).wav\n",
            "✅ Moved: Tracking (3).wav → /content/drive/My Drive/processed_data/Tracking/Tracking (3).wav\n",
            "✅ Moved: Tracking (12).wav → /content/drive/My Drive/processed_data/Tracking/Tracking (12).wav\n",
            "✅ Moved: Corona (1).wav → /content/drive/My Drive/processed_data/Corona/Corona (1).wav\n",
            "✅ Moved: Arcing (2).wav → /content/drive/My Drive/processed_data/Arcing/Arcing (2).wav\n",
            "✅ Moved: Tracking (11).wav → /content/drive/My Drive/processed_data/Tracking/Tracking (11).wav\n",
            "✅ Moved: Looseness (7).wav → /content/drive/My Drive/processed_data/Looseness/Looseness (7).wav\n",
            "✅ Moved: Looseness (6).wav → /content/drive/My Drive/processed_data/Looseness/Looseness (6).wav\n",
            "✅ Moved: Tracking (10).wav → /content/drive/My Drive/processed_data/Tracking/Tracking (10).wav\n",
            "✅ Moved: Tracking (1).wav → /content/drive/My Drive/processed_data/Tracking/Tracking (1).wav\n",
            "✅ Moved: Arcing (3).wav → /content/drive/My Drive/processed_data/Arcing/Arcing (3).wav\n",
            "✅ Moved: Corona (13).wav → /content/drive/My Drive/processed_data/Corona/Corona (13).wav\n",
            "✅ Moved: Corona (18).wav → /content/drive/My Drive/processed_data/Corona/Corona (18).wav\n",
            "✅ Moved: Corona (22).wav → /content/drive/My Drive/processed_data/Corona/Corona (22).wav\n",
            "✅ Moved: Arcing (4).wav → /content/drive/My Drive/processed_data/Arcing/Arcing (4).wav\n",
            "✅ Moved: Tracking (6).wav → /content/drive/My Drive/processed_data/Tracking/Tracking (6).wav\n",
            "✅ Moved: Tracking (7).wav → /content/drive/My Drive/processed_data/Tracking/Tracking (7).wav\n",
            "✅ Moved: Corona (6).wav → /content/drive/My Drive/processed_data/Corona/Corona (6).wav\n",
            "✅ Moved: Corona (23).wav → /content/drive/My Drive/processed_data/Corona/Corona (23).wav\n",
            "\n",
            "✅ All audio files sorted into respective category folders!\n"
          ]
        }
      ],
      "source": [
        "import os\n",
        "import shutil\n",
        "\n",
        "# Define paths\n",
        "samples_path = \"/content/drive/My Drive/samples\"\n",
        "processed_data_path = \"/content/drive/My Drive/processed_data\"\n",
        "\n",
        "# Ensure category folders exist in 'processed_data'\n",
        "categories = [\"Arcing\", \"Corona\", \"Looseness\", \"Tracking\"]\n",
        "for category in categories:\n",
        "    os.makedirs(os.path.join(processed_data_path, category), exist_ok=True)\n",
        "\n",
        "# Move each audio file to its respective category folder\n",
        "for file in os.listdir(samples_path):\n",
        "    if file.endswith(\".wav\"):\n",
        "        for category in categories:\n",
        "            if category in file:  # Identify category from filename\n",
        "                source_path = os.path.join(samples_path, file)\n",
        "                destination_path = os.path.join(processed_data_path, category, file)\n",
        "                shutil.move(source_path, destination_path)\n",
        "                print(f\"✅ Moved: {file} → {destination_path}\")\n",
        "                break  # Stop checking categories once assigned\n",
        "\n",
        "print(\"\\n✅ All audio files sorted into respective category folders!\")\n"
      ]
    },
    {
      "cell_type": "code",
      "execution_count": 26,
      "metadata": {
        "colab": {
          "base_uri": "https://localhost:8080/"
        },
        "id": "YuL-iD0cJJBe",
        "outputId": "0a6cadb6-66f4-45eb-dbc6-caec878391eb"
      },
      "outputs": [
        {
          "output_type": "stream",
          "name": "stdout",
          "text": [
            "\n",
            "📌 Arcing:\n",
            "  Arcing (3).wav: 9.29 seconds\n",
            "  Arcing (4).wav: 17.83 seconds\n",
            "  Arcing (2).wav: 51.27 seconds\n",
            "  Arcing (1).wav: 39.38 seconds\n",
            "\n",
            "📌 Corona:\n",
            "  Corona (13).wav: 11.89 seconds\n",
            "  Corona (3).wav: 7.80 seconds\n",
            "  Corona (10).wav: 12.26 seconds\n",
            "  Corona (18).wav: 4.09 seconds\n",
            "  Corona (22).wav: 15.98 seconds\n",
            "  Corona (1).wav: 1.11 seconds\n",
            "  Corona (11).wav: 25.63 seconds\n",
            "  Corona (16).wav: 13.37 seconds\n",
            "  Corona (6).wav: 14.12 seconds\n",
            "  Corona (23).wav: 17.83 seconds\n",
            "  Corona (4).wav: 9.66 seconds\n",
            "  Corona (8).wav: 13.75 seconds\n",
            "\n",
            "📌 Looseness:\n",
            "  Looseness (9).wav: 25.26 seconds\n",
            "  Looseness (5).wav: 22.66 seconds\n",
            "  Looseness (8).wav: 22.66 seconds\n",
            "  Looseness (4).wav: 33.81 seconds\n",
            "  Looseness (11).wav: 26.38 seconds\n",
            "  Looseness (2).wav: 8.17 seconds\n",
            "  Looseness (7).wav: 16.72 seconds\n",
            "  Looseness (6).wav: 13.00 seconds\n",
            "\n",
            "📌 Tracking:\n",
            "  Tracking (3).wav: 8.17 seconds\n",
            "  Tracking (6).wav: 18.58 seconds\n",
            "  Tracking (12).wav: 12.63 seconds\n",
            "  Tracking (8).wav: 27.12 seconds\n",
            "  Tracking (7).wav: 11.15 seconds\n",
            "  Tracking (5).wav: 24.52 seconds\n",
            "  Tracking (11).wav: 13.37 seconds\n",
            "  Tracking (9).wav: 14.49 seconds\n",
            "  Tracking (2).wav: 14.86 seconds\n",
            "  Tracking (10).wav: 15.23 seconds\n",
            "  Tracking (1).wav: 13.00 seconds\n"
          ]
        }
      ],
      "source": [
        "import os\n",
        "import librosa\n",
        "\n",
        "# Define the processed dataset path\n",
        "processed_data_path = \"/content/drive/My Drive/processed_data\"\n",
        "\n",
        "# Store durations\n",
        "audio_durations = {}\n",
        "\n",
        "# Loop through each category\n",
        "categories = [\"Arcing\", \"Corona\", \"Looseness\", \"Tracking\"]\n",
        "for category in categories:\n",
        "    category_path = os.path.join(processed_data_path, category)\n",
        "    durations = {}\n",
        "\n",
        "    # Check each file\n",
        "    for file in os.listdir(category_path):\n",
        "        if file.endswith(\".wav\"):\n",
        "            file_path = os.path.join(category_path, file)\n",
        "            y, sr = librosa.load(file_path, sr=None)  # Load audio file\n",
        "            duration = librosa.get_duration(y=y, sr=sr)  # Get duration in seconds\n",
        "            durations[file] = duration\n",
        "\n",
        "    audio_durations[category] = durations\n",
        "\n",
        "# Print durations\n",
        "for category, files in audio_durations.items():\n",
        "    print(f\"\\n📌 {category}:\")\n",
        "    for file, duration in files.items():\n",
        "        print(f\"  {file}: {duration:.2f} seconds\")\n"
      ]
    },
    {
      "cell_type": "code",
      "execution_count": 27,
      "metadata": {
        "colab": {
          "base_uri": "https://localhost:8080/"
        },
        "id": "DsI7ZvyDKbE6",
        "outputId": "c21dfa06-5544-45ae-86d3-4c7b67477c81"
      },
      "outputs": [
        {
          "output_type": "stream",
          "name": "stdout",
          "text": [
            "✅ Grayscale spectrograms generated successfully!\n"
          ]
        }
      ],
      "source": [
        "import os\n",
        "import librosa\n",
        "import librosa.display\n",
        "import numpy as np\n",
        "import matplotlib.pyplot as plt\n",
        "\n",
        "# Define paths\n",
        "processed_data_path = \"/content/drive/My Drive/processed_data\"\n",
        "spectrogram_path = \"/content/drive/My Drive/spectrograms\"\n",
        "\n",
        "# Ensure the spectrogram output directory exists\n",
        "os.makedirs(spectrogram_path, exist_ok=True)\n",
        "\n",
        "# Categories\n",
        "categories = [\"Arcing\", \"Corona\", \"Looseness\", \"Tracking\"]\n",
        "\n",
        "# Function to generate and save grayscale spectrogram\n",
        "def save_spectrogram(y, sr, file_name, category):\n",
        "    plt.figure(figsize=(2, 2))  # Keep square aspect ratio\n",
        "    S = librosa.feature.melspectrogram(y=y, sr=sr)\n",
        "    S_db = librosa.power_to_db(S, ref=np.max)\n",
        "\n",
        "    # Show as grayscale\n",
        "    plt.imshow(S_db, cmap=\"gray\", aspect=\"auto\")\n",
        "    plt.axis(\"off\")  # Remove axes for cleaner images\n",
        "\n",
        "    # Save spectrogram\n",
        "    category_folder = os.path.join(spectrogram_path, category)\n",
        "    os.makedirs(category_folder, exist_ok=True)\n",
        "    output_path = os.path.join(category_folder, file_name)\n",
        "    plt.savefig(output_path, bbox_inches=\"tight\", pad_inches=0, dpi=100)\n",
        "    plt.close()\n",
        "\n",
        "# Loop through each category\n",
        "for category in categories:\n",
        "    category_path = os.path.join(processed_data_path, category)\n",
        "\n",
        "    # Process each audio file\n",
        "    for file in os.listdir(category_path):\n",
        "        if file.endswith(\".wav\"):\n",
        "            file_path = os.path.join(category_path, file)\n",
        "            y, sr = librosa.load(file_path, sr=None)\n",
        "            duration = librosa.get_duration(y=y, sr=sr)\n",
        "\n",
        "            # Split into 1-second segments\n",
        "            for second in range(int(duration)):\n",
        "                start_sample = second * sr\n",
        "                end_sample = (second + 1) * sr\n",
        "                y_segment = y[start_sample:end_sample]\n",
        "\n",
        "                # Save spectrogram\n",
        "                save_spectrogram(y_segment, sr, f\"{file[:-4]}_{second+1}.png\", category)\n",
        "\n",
        "print(\"✅ Grayscale spectrograms generated successfully!\")\n"
      ]
    },
    {
      "cell_type": "code",
      "execution_count": 28,
      "metadata": {
        "id": "fennHNGPLyMg"
      },
      "outputs": [],
      "source": [
        "import librosa\n",
        "import librosa.display\n",
        "import matplotlib.pyplot as plt\n",
        "import numpy as np\n",
        "\n",
        "def save_spectrogram(y, sr, filename, category):\n",
        "    plt.figure(figsize=(2, 2))  # Ensure square shape\n",
        "    S = librosa.feature.melspectrogram(y=y, sr=sr, n_fft=2048, hop_length=512)\n",
        "    S_db = librosa.power_to_db(S, ref=np.max)\n",
        "\n",
        "    plt.imshow(S_db, aspect='auto', origin='lower', cmap=\"gray\")  # Grayscale\n",
        "    plt.axis(\"off\")  # Remove axis for clean images\n",
        "\n",
        "    save_path = f\"/content/drive/My Drive/spectrograms/{category}/{filename}\"\n",
        "    plt.savefig(save_path, dpi=300, bbox_inches=\"tight\", pad_inches=0)\n",
        "    plt.close()\n"
      ]
    },
    {
      "cell_type": "code",
      "execution_count": 29,
      "metadata": {
        "colab": {
          "base_uri": "https://localhost:8080/"
        },
        "id": "5XqjZjPdL5T9",
        "outputId": "89dba4d7-d1ef-4c6e-a891-fa52df14264a"
      },
      "outputs": [
        {
          "output_type": "stream",
          "name": "stdout",
          "text": [
            "✅ Loaded 591 spectrograms for training!\n"
          ]
        }
      ],
      "source": [
        "import cv2\n",
        "import numpy as np\n",
        "import os\n",
        "from glob import glob\n",
        "\n",
        "# Define parameters\n",
        "image_size = (128, 128)  # Resize all images to 128x128\n",
        "data_path = \"/content/drive/My Drive/spectrograms/\"\n",
        "categories = [\"Arcing\", \"Corona\", \"Looseness\", \"Tracking\"]\n",
        "\n",
        "X, y = [], []\n",
        "\n",
        "for category in categories:\n",
        "    folder_path = os.path.join(data_path, category)\n",
        "    images = glob(f\"{folder_path}/*.png\")  # Get all images\n",
        "\n",
        "    for img_path in images:\n",
        "        img = cv2.imread(img_path, cv2.IMREAD_GRAYSCALE)  # Load in grayscale\n",
        "        img = cv2.resize(img, image_size)  # Resize\n",
        "        img = img / 255.0  # Normalize pixel values to [0,1]\n",
        "\n",
        "        X.append(img)\n",
        "        y.append(category)  # Assign label\n",
        "\n",
        "X = np.array(X).reshape(-1, image_size[0], image_size[1], 1)  # Reshape for CNN\n",
        "y = np.array(y)\n",
        "\n",
        "print(f\"✅ Loaded {len(X)} spectrograms for training!\")\n"
      ]
    },
    {
      "cell_type": "code",
      "execution_count": 30,
      "metadata": {
        "colab": {
          "base_uri": "https://localhost:8080/"
        },
        "id": "Kgl9mUOSMaMF",
        "outputId": "6e78fabd-3baf-4113-c4de-b6ce49cc27f7"
      },
      "outputs": [
        {
          "output_type": "stream",
          "name": "stdout",
          "text": [
            "✅ Labels encoded successfully!\n"
          ]
        }
      ],
      "source": [
        "from sklearn.preprocessing import LabelEncoder\n",
        "from tensorflow.keras.utils import to_categorical\n",
        "\n",
        "# Convert text labels to numbers\n",
        "label_encoder = LabelEncoder()\n",
        "y_encoded = label_encoder.fit_transform(y)\n",
        "\n",
        "# Convert to one-hot encoding\n",
        "y_onehot = to_categorical(y_encoded)\n",
        "\n",
        "print(\"✅ Labels encoded successfully!\")\n"
      ]
    },
    {
      "cell_type": "code",
      "execution_count": 31,
      "metadata": {
        "colab": {
          "base_uri": "https://localhost:8080/"
        },
        "id": "sduae6ylPUT2",
        "outputId": "f68ca36d-7911-44f2-ef59-b3dcab43c91f"
      },
      "outputs": [
        {
          "output_type": "stream",
          "name": "stdout",
          "text": [
            "✅ Training samples: 472\n",
            "✅ Testing samples: 119\n"
          ]
        }
      ],
      "source": [
        "from sklearn.model_selection import train_test_split\n",
        "\n",
        "# Split the dataset\n",
        "X_train, X_test, y_train, y_test = train_test_split(X, y_onehot, test_size=0.2, random_state=42)\n",
        "\n",
        "print(f\"✅ Training samples: {X_train.shape[0]}\")\n",
        "print(f\"✅ Testing samples: {X_test.shape[0]}\")\n"
      ]
    },
    {
      "cell_type": "code",
      "execution_count": 32,
      "metadata": {
        "colab": {
          "base_uri": "https://localhost:8080/",
          "height": 531
        },
        "id": "zEr5uWOFPb8a",
        "outputId": "596b4d92-1d40-4144-869d-52a5ce7549ca"
      },
      "outputs": [
        {
          "output_type": "stream",
          "name": "stderr",
          "text": [
            "/usr/local/lib/python3.11/dist-packages/keras/src/layers/convolutional/base_conv.py:107: UserWarning: Do not pass an `input_shape`/`input_dim` argument to a layer. When using Sequential models, prefer using an `Input(shape)` object as the first layer in the model instead.\n",
            "  super().__init__(activity_regularizer=activity_regularizer, **kwargs)\n"
          ]
        },
        {
          "output_type": "display_data",
          "data": {
            "text/plain": [
              "\u001b[1mModel: \"sequential_1\"\u001b[0m\n"
            ],
            "text/html": [
              "<pre style=\"white-space:pre;overflow-x:auto;line-height:normal;font-family:Menlo,'DejaVu Sans Mono',consolas,'Courier New',monospace\"><span style=\"font-weight: bold\">Model: \"sequential_1\"</span>\n",
              "</pre>\n"
            ]
          },
          "metadata": {}
        },
        {
          "output_type": "display_data",
          "data": {
            "text/plain": [
              "┏━━━━━━━━━━━━━━━━━━━━━━━━━━━━━━━━━━━━━━┳━━━━━━━━━━━━━━━━━━━━━━━━━━━━━┳━━━━━━━━━━━━━━━━━┓\n",
              "┃\u001b[1m \u001b[0m\u001b[1mLayer (type)                        \u001b[0m\u001b[1m \u001b[0m┃\u001b[1m \u001b[0m\u001b[1mOutput Shape               \u001b[0m\u001b[1m \u001b[0m┃\u001b[1m \u001b[0m\u001b[1m        Param #\u001b[0m\u001b[1m \u001b[0m┃\n",
              "┡━━━━━━━━━━━━━━━━━━━━━━━━━━━━━━━━━━━━━━╇━━━━━━━━━━━━━━━━━━━━━━━━━━━━━╇━━━━━━━━━━━━━━━━━┩\n",
              "│ conv2d_3 (\u001b[38;5;33mConv2D\u001b[0m)                    │ (\u001b[38;5;45mNone\u001b[0m, \u001b[38;5;34m126\u001b[0m, \u001b[38;5;34m126\u001b[0m, \u001b[38;5;34m32\u001b[0m)        │             \u001b[38;5;34m320\u001b[0m │\n",
              "├──────────────────────────────────────┼─────────────────────────────┼─────────────────┤\n",
              "│ max_pooling2d_3 (\u001b[38;5;33mMaxPooling2D\u001b[0m)       │ (\u001b[38;5;45mNone\u001b[0m, \u001b[38;5;34m63\u001b[0m, \u001b[38;5;34m63\u001b[0m, \u001b[38;5;34m32\u001b[0m)          │               \u001b[38;5;34m0\u001b[0m │\n",
              "├──────────────────────────────────────┼─────────────────────────────┼─────────────────┤\n",
              "│ conv2d_4 (\u001b[38;5;33mConv2D\u001b[0m)                    │ (\u001b[38;5;45mNone\u001b[0m, \u001b[38;5;34m61\u001b[0m, \u001b[38;5;34m61\u001b[0m, \u001b[38;5;34m64\u001b[0m)          │          \u001b[38;5;34m18,496\u001b[0m │\n",
              "├──────────────────────────────────────┼─────────────────────────────┼─────────────────┤\n",
              "│ max_pooling2d_4 (\u001b[38;5;33mMaxPooling2D\u001b[0m)       │ (\u001b[38;5;45mNone\u001b[0m, \u001b[38;5;34m30\u001b[0m, \u001b[38;5;34m30\u001b[0m, \u001b[38;5;34m64\u001b[0m)          │               \u001b[38;5;34m0\u001b[0m │\n",
              "├──────────────────────────────────────┼─────────────────────────────┼─────────────────┤\n",
              "│ conv2d_5 (\u001b[38;5;33mConv2D\u001b[0m)                    │ (\u001b[38;5;45mNone\u001b[0m, \u001b[38;5;34m28\u001b[0m, \u001b[38;5;34m28\u001b[0m, \u001b[38;5;34m128\u001b[0m)         │          \u001b[38;5;34m73,856\u001b[0m │\n",
              "├──────────────────────────────────────┼─────────────────────────────┼─────────────────┤\n",
              "│ max_pooling2d_5 (\u001b[38;5;33mMaxPooling2D\u001b[0m)       │ (\u001b[38;5;45mNone\u001b[0m, \u001b[38;5;34m14\u001b[0m, \u001b[38;5;34m14\u001b[0m, \u001b[38;5;34m128\u001b[0m)         │               \u001b[38;5;34m0\u001b[0m │\n",
              "├──────────────────────────────────────┼─────────────────────────────┼─────────────────┤\n",
              "│ flatten_1 (\u001b[38;5;33mFlatten\u001b[0m)                  │ (\u001b[38;5;45mNone\u001b[0m, \u001b[38;5;34m25088\u001b[0m)               │               \u001b[38;5;34m0\u001b[0m │\n",
              "├──────────────────────────────────────┼─────────────────────────────┼─────────────────┤\n",
              "│ dense_2 (\u001b[38;5;33mDense\u001b[0m)                      │ (\u001b[38;5;45mNone\u001b[0m, \u001b[38;5;34m128\u001b[0m)                 │       \u001b[38;5;34m3,211,392\u001b[0m │\n",
              "├──────────────────────────────────────┼─────────────────────────────┼─────────────────┤\n",
              "│ dropout_1 (\u001b[38;5;33mDropout\u001b[0m)                  │ (\u001b[38;5;45mNone\u001b[0m, \u001b[38;5;34m128\u001b[0m)                 │               \u001b[38;5;34m0\u001b[0m │\n",
              "├──────────────────────────────────────┼─────────────────────────────┼─────────────────┤\n",
              "│ dense_3 (\u001b[38;5;33mDense\u001b[0m)                      │ (\u001b[38;5;45mNone\u001b[0m, \u001b[38;5;34m4\u001b[0m)                   │             \u001b[38;5;34m516\u001b[0m │\n",
              "└──────────────────────────────────────┴─────────────────────────────┴─────────────────┘\n"
            ],
            "text/html": [
              "<pre style=\"white-space:pre;overflow-x:auto;line-height:normal;font-family:Menlo,'DejaVu Sans Mono',consolas,'Courier New',monospace\">┏━━━━━━━━━━━━━━━━━━━━━━━━━━━━━━━━━━━━━━┳━━━━━━━━━━━━━━━━━━━━━━━━━━━━━┳━━━━━━━━━━━━━━━━━┓\n",
              "┃<span style=\"font-weight: bold\"> Layer (type)                         </span>┃<span style=\"font-weight: bold\"> Output Shape                </span>┃<span style=\"font-weight: bold\">         Param # </span>┃\n",
              "┡━━━━━━━━━━━━━━━━━━━━━━━━━━━━━━━━━━━━━━╇━━━━━━━━━━━━━━━━━━━━━━━━━━━━━╇━━━━━━━━━━━━━━━━━┩\n",
              "│ conv2d_3 (<span style=\"color: #0087ff; text-decoration-color: #0087ff\">Conv2D</span>)                    │ (<span style=\"color: #00d7ff; text-decoration-color: #00d7ff\">None</span>, <span style=\"color: #00af00; text-decoration-color: #00af00\">126</span>, <span style=\"color: #00af00; text-decoration-color: #00af00\">126</span>, <span style=\"color: #00af00; text-decoration-color: #00af00\">32</span>)        │             <span style=\"color: #00af00; text-decoration-color: #00af00\">320</span> │\n",
              "├──────────────────────────────────────┼─────────────────────────────┼─────────────────┤\n",
              "│ max_pooling2d_3 (<span style=\"color: #0087ff; text-decoration-color: #0087ff\">MaxPooling2D</span>)       │ (<span style=\"color: #00d7ff; text-decoration-color: #00d7ff\">None</span>, <span style=\"color: #00af00; text-decoration-color: #00af00\">63</span>, <span style=\"color: #00af00; text-decoration-color: #00af00\">63</span>, <span style=\"color: #00af00; text-decoration-color: #00af00\">32</span>)          │               <span style=\"color: #00af00; text-decoration-color: #00af00\">0</span> │\n",
              "├──────────────────────────────────────┼─────────────────────────────┼─────────────────┤\n",
              "│ conv2d_4 (<span style=\"color: #0087ff; text-decoration-color: #0087ff\">Conv2D</span>)                    │ (<span style=\"color: #00d7ff; text-decoration-color: #00d7ff\">None</span>, <span style=\"color: #00af00; text-decoration-color: #00af00\">61</span>, <span style=\"color: #00af00; text-decoration-color: #00af00\">61</span>, <span style=\"color: #00af00; text-decoration-color: #00af00\">64</span>)          │          <span style=\"color: #00af00; text-decoration-color: #00af00\">18,496</span> │\n",
              "├──────────────────────────────────────┼─────────────────────────────┼─────────────────┤\n",
              "│ max_pooling2d_4 (<span style=\"color: #0087ff; text-decoration-color: #0087ff\">MaxPooling2D</span>)       │ (<span style=\"color: #00d7ff; text-decoration-color: #00d7ff\">None</span>, <span style=\"color: #00af00; text-decoration-color: #00af00\">30</span>, <span style=\"color: #00af00; text-decoration-color: #00af00\">30</span>, <span style=\"color: #00af00; text-decoration-color: #00af00\">64</span>)          │               <span style=\"color: #00af00; text-decoration-color: #00af00\">0</span> │\n",
              "├──────────────────────────────────────┼─────────────────────────────┼─────────────────┤\n",
              "│ conv2d_5 (<span style=\"color: #0087ff; text-decoration-color: #0087ff\">Conv2D</span>)                    │ (<span style=\"color: #00d7ff; text-decoration-color: #00d7ff\">None</span>, <span style=\"color: #00af00; text-decoration-color: #00af00\">28</span>, <span style=\"color: #00af00; text-decoration-color: #00af00\">28</span>, <span style=\"color: #00af00; text-decoration-color: #00af00\">128</span>)         │          <span style=\"color: #00af00; text-decoration-color: #00af00\">73,856</span> │\n",
              "├──────────────────────────────────────┼─────────────────────────────┼─────────────────┤\n",
              "│ max_pooling2d_5 (<span style=\"color: #0087ff; text-decoration-color: #0087ff\">MaxPooling2D</span>)       │ (<span style=\"color: #00d7ff; text-decoration-color: #00d7ff\">None</span>, <span style=\"color: #00af00; text-decoration-color: #00af00\">14</span>, <span style=\"color: #00af00; text-decoration-color: #00af00\">14</span>, <span style=\"color: #00af00; text-decoration-color: #00af00\">128</span>)         │               <span style=\"color: #00af00; text-decoration-color: #00af00\">0</span> │\n",
              "├──────────────────────────────────────┼─────────────────────────────┼─────────────────┤\n",
              "│ flatten_1 (<span style=\"color: #0087ff; text-decoration-color: #0087ff\">Flatten</span>)                  │ (<span style=\"color: #00d7ff; text-decoration-color: #00d7ff\">None</span>, <span style=\"color: #00af00; text-decoration-color: #00af00\">25088</span>)               │               <span style=\"color: #00af00; text-decoration-color: #00af00\">0</span> │\n",
              "├──────────────────────────────────────┼─────────────────────────────┼─────────────────┤\n",
              "│ dense_2 (<span style=\"color: #0087ff; text-decoration-color: #0087ff\">Dense</span>)                      │ (<span style=\"color: #00d7ff; text-decoration-color: #00d7ff\">None</span>, <span style=\"color: #00af00; text-decoration-color: #00af00\">128</span>)                 │       <span style=\"color: #00af00; text-decoration-color: #00af00\">3,211,392</span> │\n",
              "├──────────────────────────────────────┼─────────────────────────────┼─────────────────┤\n",
              "│ dropout_1 (<span style=\"color: #0087ff; text-decoration-color: #0087ff\">Dropout</span>)                  │ (<span style=\"color: #00d7ff; text-decoration-color: #00d7ff\">None</span>, <span style=\"color: #00af00; text-decoration-color: #00af00\">128</span>)                 │               <span style=\"color: #00af00; text-decoration-color: #00af00\">0</span> │\n",
              "├──────────────────────────────────────┼─────────────────────────────┼─────────────────┤\n",
              "│ dense_3 (<span style=\"color: #0087ff; text-decoration-color: #0087ff\">Dense</span>)                      │ (<span style=\"color: #00d7ff; text-decoration-color: #00d7ff\">None</span>, <span style=\"color: #00af00; text-decoration-color: #00af00\">4</span>)                   │             <span style=\"color: #00af00; text-decoration-color: #00af00\">516</span> │\n",
              "└──────────────────────────────────────┴─────────────────────────────┴─────────────────┘\n",
              "</pre>\n"
            ]
          },
          "metadata": {}
        },
        {
          "output_type": "display_data",
          "data": {
            "text/plain": [
              "\u001b[1m Total params: \u001b[0m\u001b[38;5;34m3,304,580\u001b[0m (12.61 MB)\n"
            ],
            "text/html": [
              "<pre style=\"white-space:pre;overflow-x:auto;line-height:normal;font-family:Menlo,'DejaVu Sans Mono',consolas,'Courier New',monospace\"><span style=\"font-weight: bold\"> Total params: </span><span style=\"color: #00af00; text-decoration-color: #00af00\">3,304,580</span> (12.61 MB)\n",
              "</pre>\n"
            ]
          },
          "metadata": {}
        },
        {
          "output_type": "display_data",
          "data": {
            "text/plain": [
              "\u001b[1m Trainable params: \u001b[0m\u001b[38;5;34m3,304,580\u001b[0m (12.61 MB)\n"
            ],
            "text/html": [
              "<pre style=\"white-space:pre;overflow-x:auto;line-height:normal;font-family:Menlo,'DejaVu Sans Mono',consolas,'Courier New',monospace\"><span style=\"font-weight: bold\"> Trainable params: </span><span style=\"color: #00af00; text-decoration-color: #00af00\">3,304,580</span> (12.61 MB)\n",
              "</pre>\n"
            ]
          },
          "metadata": {}
        },
        {
          "output_type": "display_data",
          "data": {
            "text/plain": [
              "\u001b[1m Non-trainable params: \u001b[0m\u001b[38;5;34m0\u001b[0m (0.00 B)\n"
            ],
            "text/html": [
              "<pre style=\"white-space:pre;overflow-x:auto;line-height:normal;font-family:Menlo,'DejaVu Sans Mono',consolas,'Courier New',monospace\"><span style=\"font-weight: bold\"> Non-trainable params: </span><span style=\"color: #00af00; text-decoration-color: #00af00\">0</span> (0.00 B)\n",
              "</pre>\n"
            ]
          },
          "metadata": {}
        }
      ],
      "source": [
        "import tensorflow as tf\n",
        "from tensorflow.keras.models import Sequential\n",
        "from tensorflow.keras.layers import Conv2D, MaxPooling2D, Flatten, Dense, Dropout\n",
        "\n",
        "# Define CNN model\n",
        "model = Sequential([\n",
        "    Conv2D(32, (3,3), activation='relu', input_shape=(128, 128, 1)),\n",
        "    MaxPooling2D(2,2),\n",
        "\n",
        "    Conv2D(64, (3,3), activation='relu'),\n",
        "    MaxPooling2D(2,2),\n",
        "\n",
        "    Conv2D(128, (3,3), activation='relu'),\n",
        "    MaxPooling2D(2,2),\n",
        "\n",
        "    Flatten(),\n",
        "    Dense(128, activation='relu'),\n",
        "    Dropout(0.3),  # Regularization\n",
        "    Dense(4, activation='softmax')  # 4 output classes\n",
        "])\n",
        "\n",
        "# Compile the model\n",
        "model.compile(optimizer='adam', loss='categorical_crossentropy', metrics=['accuracy'])\n",
        "\n",
        "# Show model summary\n",
        "model.summary()\n"
      ]
    },
    {
      "cell_type": "code",
      "execution_count": 33,
      "metadata": {
        "colab": {
          "base_uri": "https://localhost:8080/"
        },
        "id": "eSfp7VMUPmzD",
        "outputId": "2120d6ff-9277-4b68-ebe4-a9faf881d350"
      },
      "outputs": [
        {
          "output_type": "stream",
          "name": "stdout",
          "text": [
            "Epoch 1/40\n",
            "\u001b[1m15/15\u001b[0m \u001b[32m━━━━━━━━━━━━━━━━━━━━\u001b[0m\u001b[37m\u001b[0m \u001b[1m19s\u001b[0m 1s/step - accuracy: 0.2877 - loss: 1.4509 - val_accuracy: 0.2773 - val_loss: 1.3861\n",
            "Epoch 2/40\n",
            "\u001b[1m15/15\u001b[0m \u001b[32m━━━━━━━━━━━━━━━━━━━━\u001b[0m\u001b[37m\u001b[0m \u001b[1m16s\u001b[0m 1s/step - accuracy: 0.2795 - loss: 1.3862 - val_accuracy: 0.2773 - val_loss: 1.3821\n",
            "Epoch 3/40\n",
            "\u001b[1m15/15\u001b[0m \u001b[32m━━━━━━━━━━━━━━━━━━━━\u001b[0m\u001b[37m\u001b[0m \u001b[1m21s\u001b[0m 1s/step - accuracy: 0.2744 - loss: 1.3796 - val_accuracy: 0.2773 - val_loss: 1.3788\n",
            "Epoch 4/40\n",
            "\u001b[1m15/15\u001b[0m \u001b[32m━━━━━━━━━━━━━━━━━━━━\u001b[0m\u001b[37m\u001b[0m \u001b[1m20s\u001b[0m 1s/step - accuracy: 0.2931 - loss: 1.3746 - val_accuracy: 0.4454 - val_loss: 1.3811\n",
            "Epoch 5/40\n",
            "\u001b[1m15/15\u001b[0m \u001b[32m━━━━━━━━━━━━━━━━━━━━\u001b[0m\u001b[37m\u001b[0m \u001b[1m20s\u001b[0m 1s/step - accuracy: 0.3382 - loss: 1.3787 - val_accuracy: 0.2773 - val_loss: 1.3820\n",
            "Epoch 6/40\n",
            "\u001b[1m15/15\u001b[0m \u001b[32m━━━━━━━━━━━━━━━━━━━━\u001b[0m\u001b[37m\u001b[0m \u001b[1m20s\u001b[0m 1s/step - accuracy: 0.2769 - loss: 1.3862 - val_accuracy: 0.2773 - val_loss: 1.3816\n",
            "Epoch 7/40\n",
            "\u001b[1m15/15\u001b[0m \u001b[32m━━━━━━━━━━━━━━━━━━━━\u001b[0m\u001b[37m\u001b[0m \u001b[1m19s\u001b[0m 1s/step - accuracy: 0.2953 - loss: 1.3670 - val_accuracy: 0.3193 - val_loss: 1.3669\n",
            "Epoch 8/40\n",
            "\u001b[1m15/15\u001b[0m \u001b[32m━━━━━━━━━━━━━━━━━━━━\u001b[0m\u001b[37m\u001b[0m \u001b[1m18s\u001b[0m 1s/step - accuracy: 0.3506 - loss: 1.3612 - val_accuracy: 0.4202 - val_loss: 1.3429\n",
            "Epoch 9/40\n",
            "\u001b[1m15/15\u001b[0m \u001b[32m━━━━━━━━━━━━━━━━━━━━\u001b[0m\u001b[37m\u001b[0m \u001b[1m20s\u001b[0m 1s/step - accuracy: 0.3998 - loss: 1.3328 - val_accuracy: 0.4538 - val_loss: 1.2790\n",
            "Epoch 10/40\n",
            "\u001b[1m15/15\u001b[0m \u001b[32m━━━━━━━━━━━━━━━━━━━━\u001b[0m\u001b[37m\u001b[0m \u001b[1m20s\u001b[0m 1s/step - accuracy: 0.4905 - loss: 1.2576 - val_accuracy: 0.4370 - val_loss: 1.1790\n",
            "Epoch 11/40\n",
            "\u001b[1m15/15\u001b[0m \u001b[32m━━━━━━━━━━━━━━━━━━━━\u001b[0m\u001b[37m\u001b[0m \u001b[1m21s\u001b[0m 1s/step - accuracy: 0.4903 - loss: 1.1558 - val_accuracy: 0.4454 - val_loss: 1.1257\n",
            "Epoch 12/40\n",
            "\u001b[1m15/15\u001b[0m \u001b[32m━━━━━━━━━━━━━━━━━━━━\u001b[0m\u001b[37m\u001b[0m \u001b[1m20s\u001b[0m 1s/step - accuracy: 0.5249 - loss: 1.0448 - val_accuracy: 0.5378 - val_loss: 1.0309\n",
            "Epoch 13/40\n",
            "\u001b[1m15/15\u001b[0m \u001b[32m━━━━━━━━━━━━━━━━━━━━\u001b[0m\u001b[37m\u001b[0m \u001b[1m20s\u001b[0m 1s/step - accuracy: 0.5759 - loss: 0.9460 - val_accuracy: 0.6218 - val_loss: 0.9861\n",
            "Epoch 14/40\n",
            "\u001b[1m15/15\u001b[0m \u001b[32m━━━━━━━━━━━━━━━━━━━━\u001b[0m\u001b[37m\u001b[0m \u001b[1m21s\u001b[0m 1s/step - accuracy: 0.5938 - loss: 0.9251 - val_accuracy: 0.5630 - val_loss: 1.0260\n",
            "Epoch 15/40\n",
            "\u001b[1m15/15\u001b[0m \u001b[32m━━━━━━━━━━━━━━━━━━━━\u001b[0m\u001b[37m\u001b[0m \u001b[1m20s\u001b[0m 1s/step - accuracy: 0.6748 - loss: 0.8563 - val_accuracy: 0.6050 - val_loss: 0.9344\n",
            "Epoch 16/40\n",
            "\u001b[1m15/15\u001b[0m \u001b[32m━━━━━━━━━━━━━━━━━━━━\u001b[0m\u001b[37m\u001b[0m \u001b[1m20s\u001b[0m 1s/step - accuracy: 0.6875 - loss: 0.8022 - val_accuracy: 0.6471 - val_loss: 0.9341\n",
            "Epoch 17/40\n",
            "\u001b[1m15/15\u001b[0m \u001b[32m━━━━━━━━━━━━━━━━━━━━\u001b[0m\u001b[37m\u001b[0m \u001b[1m21s\u001b[0m 1s/step - accuracy: 0.7143 - loss: 0.7482 - val_accuracy: 0.5714 - val_loss: 1.0427\n",
            "Epoch 18/40\n",
            "\u001b[1m15/15\u001b[0m \u001b[32m━━━━━━━━━━━━━━━━━━━━\u001b[0m\u001b[37m\u001b[0m \u001b[1m20s\u001b[0m 1s/step - accuracy: 0.6819 - loss: 0.8407 - val_accuracy: 0.6639 - val_loss: 0.8839\n",
            "Epoch 19/40\n",
            "\u001b[1m15/15\u001b[0m \u001b[32m━━━━━━━━━━━━━━━━━━━━\u001b[0m\u001b[37m\u001b[0m \u001b[1m21s\u001b[0m 1s/step - accuracy: 0.6651 - loss: 0.7648 - val_accuracy: 0.6218 - val_loss: 0.8489\n",
            "Epoch 20/40\n",
            "\u001b[1m15/15\u001b[0m \u001b[32m━━━━━━━━━━━━━━━━━━━━\u001b[0m\u001b[37m\u001b[0m \u001b[1m22s\u001b[0m 1s/step - accuracy: 0.7190 - loss: 0.6908 - val_accuracy: 0.6807 - val_loss: 0.8148\n",
            "Epoch 21/40\n",
            "\u001b[1m15/15\u001b[0m \u001b[32m━━━━━━━━━━━━━━━━━━━━\u001b[0m\u001b[37m\u001b[0m \u001b[1m19s\u001b[0m 1s/step - accuracy: 0.7486 - loss: 0.6146 - val_accuracy: 0.6639 - val_loss: 0.8229\n",
            "Epoch 22/40\n",
            "\u001b[1m15/15\u001b[0m \u001b[32m━━━━━━━━━━━━━━━━━━━━\u001b[0m\u001b[37m\u001b[0m \u001b[1m20s\u001b[0m 1s/step - accuracy: 0.7510 - loss: 0.6745 - val_accuracy: 0.7059 - val_loss: 0.8016\n",
            "Epoch 23/40\n",
            "\u001b[1m15/15\u001b[0m \u001b[32m━━━━━━━━━━━━━━━━━━━━\u001b[0m\u001b[37m\u001b[0m \u001b[1m16s\u001b[0m 1s/step - accuracy: 0.7638 - loss: 0.5856 - val_accuracy: 0.7311 - val_loss: 0.7838\n",
            "Epoch 24/40\n",
            "\u001b[1m15/15\u001b[0m \u001b[32m━━━━━━━━━━━━━━━━━━━━\u001b[0m\u001b[37m\u001b[0m \u001b[1m16s\u001b[0m 1s/step - accuracy: 0.8097 - loss: 0.5067 - val_accuracy: 0.7563 - val_loss: 0.7203\n",
            "Epoch 25/40\n",
            "\u001b[1m15/15\u001b[0m \u001b[32m━━━━━━━━━━━━━━━━━━━━\u001b[0m\u001b[37m\u001b[0m \u001b[1m16s\u001b[0m 1s/step - accuracy: 0.8158 - loss: 0.5216 - val_accuracy: 0.7815 - val_loss: 0.7364\n",
            "Epoch 26/40\n",
            "\u001b[1m15/15\u001b[0m \u001b[32m━━━━━━━━━━━━━━━━━━━━\u001b[0m\u001b[37m\u001b[0m \u001b[1m21s\u001b[0m 1s/step - accuracy: 0.8059 - loss: 0.4623 - val_accuracy: 0.7563 - val_loss: 0.7115\n",
            "Epoch 27/40\n",
            "\u001b[1m15/15\u001b[0m \u001b[32m━━━━━━━━━━━━━━━━━━━━\u001b[0m\u001b[37m\u001b[0m \u001b[1m20s\u001b[0m 1s/step - accuracy: 0.8441 - loss: 0.4611 - val_accuracy: 0.7395 - val_loss: 0.6989\n",
            "Epoch 28/40\n",
            "\u001b[1m15/15\u001b[0m \u001b[32m━━━━━━━━━━━━━━━━━━━━\u001b[0m\u001b[37m\u001b[0m \u001b[1m20s\u001b[0m 1s/step - accuracy: 0.8432 - loss: 0.4015 - val_accuracy: 0.6807 - val_loss: 0.7148\n",
            "Epoch 29/40\n",
            "\u001b[1m15/15\u001b[0m \u001b[32m━━━━━━━━━━━━━━━━━━━━\u001b[0m\u001b[37m\u001b[0m \u001b[1m21s\u001b[0m 1s/step - accuracy: 0.8252 - loss: 0.4371 - val_accuracy: 0.7647 - val_loss: 0.7082\n",
            "Epoch 30/40\n",
            "\u001b[1m15/15\u001b[0m \u001b[32m━━━━━━━━━━━━━━━━━━━━\u001b[0m\u001b[37m\u001b[0m \u001b[1m20s\u001b[0m 1s/step - accuracy: 0.8294 - loss: 0.4188 - val_accuracy: 0.7899 - val_loss: 0.6394\n",
            "Epoch 31/40\n",
            "\u001b[1m15/15\u001b[0m \u001b[32m━━━━━━━━━━━━━━━━━━━━\u001b[0m\u001b[37m\u001b[0m \u001b[1m21s\u001b[0m 1s/step - accuracy: 0.8626 - loss: 0.3305 - val_accuracy: 0.7815 - val_loss: 0.6877\n",
            "Epoch 32/40\n",
            "\u001b[1m15/15\u001b[0m \u001b[32m━━━━━━━━━━━━━━━━━━━━\u001b[0m\u001b[37m\u001b[0m \u001b[1m21s\u001b[0m 1s/step - accuracy: 0.8802 - loss: 0.2971 - val_accuracy: 0.7731 - val_loss: 0.6475\n",
            "Epoch 33/40\n",
            "\u001b[1m15/15\u001b[0m \u001b[32m━━━━━━━━━━━━━━━━━━━━\u001b[0m\u001b[37m\u001b[0m \u001b[1m23s\u001b[0m 1s/step - accuracy: 0.8400 - loss: 0.3694 - val_accuracy: 0.7899 - val_loss: 0.7069\n",
            "Epoch 34/40\n",
            "\u001b[1m15/15\u001b[0m \u001b[32m━━━━━━━━━━━━━━━━━━━━\u001b[0m\u001b[37m\u001b[0m \u001b[1m16s\u001b[0m 1s/step - accuracy: 0.9208 - loss: 0.2629 - val_accuracy: 0.7983 - val_loss: 0.6352\n",
            "Epoch 35/40\n",
            "\u001b[1m15/15\u001b[0m \u001b[32m━━━━━━━━━━━━━━━━━━━━\u001b[0m\u001b[37m\u001b[0m \u001b[1m20s\u001b[0m 1s/step - accuracy: 0.9244 - loss: 0.2356 - val_accuracy: 0.7983 - val_loss: 0.6956\n",
            "Epoch 36/40\n",
            "\u001b[1m15/15\u001b[0m \u001b[32m━━━━━━━━━━━━━━━━━━━━\u001b[0m\u001b[37m\u001b[0m \u001b[1m16s\u001b[0m 1s/step - accuracy: 0.9204 - loss: 0.2240 - val_accuracy: 0.8151 - val_loss: 0.7029\n",
            "Epoch 37/40\n",
            "\u001b[1m15/15\u001b[0m \u001b[32m━━━━━━━━━━━━━━━━━━━━\u001b[0m\u001b[37m\u001b[0m \u001b[1m16s\u001b[0m 1s/step - accuracy: 0.9297 - loss: 0.1991 - val_accuracy: 0.7899 - val_loss: 0.5854\n",
            "Epoch 38/40\n",
            "\u001b[1m15/15\u001b[0m \u001b[32m━━━━━━━━━━━━━━━━━━━━\u001b[0m\u001b[37m\u001b[0m \u001b[1m20s\u001b[0m 1s/step - accuracy: 0.9332 - loss: 0.1981 - val_accuracy: 0.7647 - val_loss: 0.8166\n",
            "Epoch 39/40\n",
            "\u001b[1m15/15\u001b[0m \u001b[32m━━━━━━━━━━━━━━━━━━━━\u001b[0m\u001b[37m\u001b[0m \u001b[1m21s\u001b[0m 1s/step - accuracy: 0.9107 - loss: 0.2400 - val_accuracy: 0.8151 - val_loss: 0.6475\n",
            "Epoch 40/40\n",
            "\u001b[1m15/15\u001b[0m \u001b[32m━━━━━━━━━━━━━━━━━━━━\u001b[0m\u001b[37m\u001b[0m \u001b[1m20s\u001b[0m 1s/step - accuracy: 0.9560 - loss: 0.1498 - val_accuracy: 0.8067 - val_loss: 0.7668\n"
          ]
        },
        {
          "output_type": "stream",
          "name": "stderr",
          "text": [
            "WARNING:absl:You are saving your model as an HDF5 file via `model.save()` or `keras.saving.save_model(model)`. This file format is considered legacy. We recommend using instead the native Keras format, e.g. `model.save('my_model.keras')` or `keras.saving.save_model(model, 'my_model.keras')`. \n"
          ]
        },
        {
          "output_type": "stream",
          "name": "stdout",
          "text": [
            "✅ Model training complete and saved successfully!\n"
          ]
        }
      ],
      "source": [
        "# Train the model\n",
        "history = model.fit(\n",
        "    X_train, y_train,\n",
        "    validation_data=(X_test, y_test),\n",
        "    epochs=40,  # You can increase/decrease the number of epochs\n",
        "    batch_size=32\n",
        ")\n",
        "\n",
        "# Save the trained model\n",
        "model.save(\"/content/machine_fault_detection_model.h5\")\n",
        "\n",
        "print(\"✅ Model training complete and saved successfully!\")\n"
      ]
    },
    {
      "cell_type": "code",
      "execution_count": 34,
      "metadata": {
        "colab": {
          "base_uri": "https://localhost:8080/"
        },
        "id": "8HD14asRRRTk",
        "outputId": "d8c5bfd3-0445-4019-91fd-c08a77a62b7f"
      },
      "outputs": [
        {
          "output_type": "stream",
          "name": "stdout",
          "text": [
            "\u001b[1m4/4\u001b[0m \u001b[32m━━━━━━━━━━━━━━━━━━━━\u001b[0m\u001b[37m\u001b[0m \u001b[1m1s\u001b[0m 220ms/step - accuracy: 0.8248 - loss: 0.6721\n",
            "✅ Test Accuracy: 0.8067\n",
            "✅ Test Loss: 0.7668\n"
          ]
        }
      ],
      "source": [
        "# Evaluate the model\n",
        "test_loss, test_acc = model.evaluate(X_test, y_test)\n",
        "\n",
        "print(f\"✅ Test Accuracy: {test_acc:.4f}\")\n",
        "print(f\"✅ Test Loss: {test_loss:.4f}\")\n"
      ]
    },
    {
      "cell_type": "code",
      "execution_count": 35,
      "metadata": {
        "colab": {
          "base_uri": "https://localhost:8080/"
        },
        "id": "6Gw6u5kXSRlh",
        "outputId": "1548f67c-fa46-4b8a-a8c1-b1dca16cbe5b"
      },
      "outputs": [
        {
          "output_type": "stream",
          "name": "stdout",
          "text": [
            "X type: <class 'numpy.ndarray'>, dtype: float64\n",
            "y type: <class 'numpy.ndarray'>, dtype: <U9\n"
          ]
        }
      ],
      "source": [
        "print(f\"X type: {type(X)}, dtype: {X.dtype if hasattr(X, 'dtype') else 'Not a NumPy array'}\")\n",
        "print(f\"y type: {type(y)}, dtype: {y.dtype if hasattr(y, 'dtype') else 'Not a NumPy array'}\")\n"
      ]
    },
    {
      "cell_type": "code",
      "execution_count": 36,
      "metadata": {
        "colab": {
          "base_uri": "https://localhost:8080/"
        },
        "id": "FEM1UfPaSagb",
        "outputId": "0323eefc-15db-4cd5-9a82-381bd91660c8"
      },
      "outputs": [
        {
          "output_type": "stream",
          "name": "stdout",
          "text": [
            "Encoded labels: [0 0 0 0 0 0 0 0 0 0]\n"
          ]
        }
      ],
      "source": [
        "from sklearn.preprocessing import LabelEncoder\n",
        "\n",
        "# Encode string labels into integers\n",
        "label_encoder = LabelEncoder()\n",
        "y = label_encoder.fit_transform(y)  # Converts strings to integers\n",
        "\n",
        "# Convert to NumPy array (if not already)\n",
        "y = np.array(y, dtype=np.int32)\n",
        "\n",
        "print(f\"Encoded labels: {y[:10]}\")  # Check first 10 labels\n"
      ]
    },
    {
      "cell_type": "code",
      "execution_count": 37,
      "metadata": {
        "colab": {
          "base_uri": "https://localhost:8080/"
        },
        "id": "ZzuNWN6nSv-b",
        "outputId": "fdf44239-5af5-43d5-8c31-29489f18e869"
      },
      "outputs": [
        {
          "output_type": "stream",
          "name": "stdout",
          "text": [
            "Encoded labels: [0 1 2 3]\n"
          ]
        }
      ],
      "source": [
        "# Check if y is already numeric\n",
        "if isinstance(y[0], str):  # If labels are strings, encode them\n",
        "    y = label_encoder.fit_transform(y)\n",
        "\n",
        "print(\"Encoded labels:\", np.unique(y))\n"
      ]
    },
    {
      "cell_type": "code",
      "execution_count": 38,
      "metadata": {
        "colab": {
          "base_uri": "https://localhost:8080/"
        },
        "id": "it99f1x7Xs5K",
        "outputId": "3f101f4f-2ef7-405a-ac4a-cb9ab3521fba"
      },
      "outputs": [
        {
          "output_type": "stream",
          "name": "stdout",
          "text": [
            "✅ One-hot encoded y shape: (591, 4)\n"
          ]
        }
      ],
      "source": [
        "from tensorflow.keras.utils import to_categorical\n",
        "\n",
        "# Convert labels to numpy array (ensures compatibility)\n",
        "y = np.array(y).astype(int)\n",
        "\n",
        "# ✅ One-hot encode labels\n",
        "y = to_categorical(y, num_classes=4)\n",
        "\n",
        "# 🚀 Print the new shape to verify\n",
        "print(\"✅ One-hot encoded y shape:\", y.shape)  # Expected: (samples, 4)\n"
      ]
    },
    {
      "cell_type": "code",
      "execution_count": 39,
      "metadata": {
        "colab": {
          "base_uri": "https://localhost:8080/"
        },
        "id": "5qVuNjd-kGUt",
        "outputId": "47a51ff3-b2ef-4b65-c374-4d1b4e6a743e"
      },
      "outputs": [
        {
          "output_type": "stream",
          "name": "stdout",
          "text": [
            "📂 Arcing: Expected = 116, Found = 116\n",
            "📂 Corona: Expected = 141, Found = 141\n",
            "📂 Looseness: Expected = 165, Found = 165\n",
            "📂 Tracking: Expected = 169, Found = 169\n"
          ]
        }
      ],
      "source": [
        "import os\n",
        "\n",
        "# Define your dataset path (update it based on your actual path)\n",
        "dataset_path = \"/content/drive/My Drive/spectrograms\"\n",
        "\n",
        "# Expected spectrogram count per file based on duration\n",
        "audio_durations = {\n",
        "    \"Arcing\": [39, 51, 9, 17],\n",
        "    \"Corona\": [9, 13, 13, 7, 12, 25, 1, 11, 4, 15, 14, 17],\n",
        "    \"Looseness\": [8, 25, 33, 22, 26, 22, 16, 13],\n",
        "    \"Tracking\": [27, 24, 14, 14, 8, 12, 13, 15, 13, 18, 11]\n",
        "}\n",
        "\n",
        "# Check each folder\n",
        "for category, durations in audio_durations.items():\n",
        "    folder_path = os.path.join(dataset_path, category)\n",
        "    images = [f for f in os.listdir(folder_path) if f.endswith(\".png\")]\n",
        "\n",
        "    expected_count = sum(durations)  # Total expected spectrograms\n",
        "    actual_count = len(images)  # Count images in the folder\n",
        "\n",
        "    print(f\"📂 {category}: Expected = {expected_count}, Found = {actual_count}\")\n"
      ]
    },
    {
      "cell_type": "code",
      "execution_count": 40,
      "metadata": {
        "colab": {
          "base_uri": "https://localhost:8080/"
        },
        "id": "c2kU6SKq0c6l",
        "outputId": "847c50e5-fc2a-4972-ef4f-cf54d7163e10"
      },
      "outputs": [
        {
          "output_type": "stream",
          "name": "stdout",
          "text": [
            "Drive already mounted at /content/drive; to attempt to forcibly remount, call drive.mount(\"/content/drive\", force_remount=True).\n",
            "Dataset folder found! ✅\n",
            "✅ Tracking folder found with 169 images\n",
            "✅ Looseness folder found with 165 images\n",
            "✅ Corona folder found with 141 images\n",
            "✅ Arcing folder found with 116 images\n"
          ]
        }
      ],
      "source": [
        "from google.colab import drive\n",
        "import os\n",
        "\n",
        "# Mount Google Drive\n",
        "drive.mount('/content/drive')\n",
        "\n",
        "# Path to your Spectrograms folder in Google Drive (update the path if needed)\n",
        "spectrograms_path = \"/content/drive/MyDrive/spectrograms\"\n",
        "\n",
        "# Define class folders\n",
        "classes = [\"Tracking\", \"Looseness\", \"Corona\", \"Arcing\"]\n",
        "\n",
        "# Check if the dataset folder exists\n",
        "if os.path.exists(spectrograms_path):\n",
        "    print(\"Dataset folder found! ✅\")\n",
        "    for class_name in classes:\n",
        "        class_path = os.path.join(spectrograms_path, class_name)\n",
        "        if os.path.exists(class_path):\n",
        "            print(f\"✅ {class_name} folder found with {len(os.listdir(class_path))} images\")\n",
        "        else:\n",
        "            print(f\"❌ {class_name} folder is missing!\")\n",
        "else:\n",
        "    print(\"❌ Spectrograms folder not found! Check your path.\")\n"
      ]
    },
    {
      "cell_type": "code",
      "execution_count": 41,
      "metadata": {
        "colab": {
          "base_uri": "https://localhost:8080/"
        },
        "id": "8lgEmPM9C5DC",
        "outputId": "fd2b211d-98de-465b-aea5-b291f85ee447"
      },
      "outputs": [
        {
          "output_type": "stream",
          "name": "stdout",
          "text": [
            "✅ Dataset saved! X shape: (591, 154, 155, 1), y shape: (591, 4)\n"
          ]
        }
      ],
      "source": [
        "import os\n",
        "import numpy as np\n",
        "import cv2\n",
        "from tensorflow.keras.utils import to_categorical\n",
        "\n",
        "# Define the correct path to the Spectrograms folder\n",
        "dataset_path = \"/content/drive/MyDrive//spectrograms\"  # Update if needed\n",
        "\n",
        "# Define fault categories\n",
        "classes = [\"Tracking\", \"Looseness\", \"Corona\", \"Arcing\"]\n",
        "IMG_HEIGHT, IMG_WIDTH = 154, 155  # Resize dimensions\n",
        "\n",
        "# Initialize lists to store images and labels\n",
        "X, y = [], []\n",
        "\n",
        "# Loop through each category folder inside Spectrograms\n",
        "for class_idx, class_name in enumerate(classes):\n",
        "    class_folder = os.path.join(dataset_path, class_name)\n",
        "\n",
        "    if not os.path.exists(class_folder):\n",
        "        print(f\"❌ Folder not found: {class_folder}\")\n",
        "        continue  # Skip missing folders\n",
        "\n",
        "    for img_name in os.listdir(class_folder):\n",
        "        img_path = os.path.join(class_folder, img_name)\n",
        "\n",
        "        # Read and resize the spectrogram image\n",
        "        img = cv2.imread(img_path, cv2.IMREAD_GRAYSCALE)  # Load in grayscale\n",
        "        if img is None:\n",
        "            print(f\"⚠️ Skipping unreadable image: {img_path}\")\n",
        "            continue  # Skip corrupted files\n",
        "\n",
        "        img = cv2.resize(img, (IMG_WIDTH, IMG_HEIGHT))  # Resize\n",
        "\n",
        "        X.append(img)\n",
        "        y.append(class_idx)  # Assign label based on folder name\n",
        "\n",
        "# Convert lists to NumPy arrays\n",
        "X = np.array(X).astype(\"float32\") / 255.0  # Normalize pixel values\n",
        "X = np.expand_dims(X, axis=-1)  # Add channel dimension for CNN\n",
        "y = np.array(y)\n",
        "y = to_categorical(y, num_classes=len(classes))  # One-hot encode labels\n",
        "\n",
        "# Save processed dataset\n",
        "np.save(\"X_data.npy\", X)\n",
        "np.save(\"y_data.npy\", y)\n",
        "\n",
        "print(f\"✅ Dataset saved! X shape: {X.shape}, y shape: {y.shape}\")\n"
      ]
    },
    {
      "cell_type": "code",
      "execution_count": 42,
      "metadata": {
        "colab": {
          "base_uri": "https://localhost:8080/"
        },
        "id": "Q-Q3p-qdDZ5R",
        "outputId": "342ba1ad-6d60-4e19-eccd-fea41c2f2a49"
      },
      "outputs": [
        {
          "output_type": "stream",
          "name": "stdout",
          "text": [
            "✅ Dataset Loaded! Training: (472, 154, 155, 1), Testing: (119, 154, 155, 1)\n"
          ]
        }
      ],
      "source": [
        "import numpy as np\n",
        "from sklearn.model_selection import train_test_split\n",
        "\n",
        "# Load saved dataset\n",
        "X = np.load(\"X_data.npy\")\n",
        "y = np.load(\"y_data.npy\")\n",
        "\n",
        "# Split into training (80%) and testing (20%)\n",
        "X_train, X_test, y_train, y_test = train_test_split(X, y, test_size=0.2, random_state=42, stratify=y)\n",
        "\n",
        "print(f\"✅ Dataset Loaded! Training: {X_train.shape}, Testing: {X_test.shape}\")\n"
      ]
    },
    {
      "cell_type": "code",
      "execution_count": 43,
      "metadata": {
        "id": "sx0gAPT3IIeY"
      },
      "outputs": [],
      "source": [
        "from tensorflow.keras.preprocessing.image import ImageDataGenerator\n",
        "\n",
        "datagen = ImageDataGenerator(\n",
        "    rotation_range=15,\n",
        "    width_shift_range=0.1,\n",
        "    height_shift_range=0.1,\n",
        "    horizontal_flip=True\n",
        ")\n",
        "datagen.fit(X_train)  # Apply augmentation to training data\n"
      ]
    },
    {
      "cell_type": "code",
      "execution_count": 44,
      "metadata": {
        "colab": {
          "base_uri": "https://localhost:8080/",
          "height": 169
        },
        "id": "E9fAwBThI0qV",
        "outputId": "220c8d10-1c60-4999-d255-e604b138e22e"
      },
      "outputs": [
        {
          "output_type": "display_data",
          "data": {
            "text/plain": [
              "<Figure size 1000x500 with 5 Axes>"
            ],
            "image/png": "[encoded data removed]"
          },
          "metadata": {}
        }
      ],
      "source": [
        "import numpy as np\n",
        "import matplotlib.pyplot as plt\n",
        "\n",
        "# Get some augmented images\n",
        "data_iter = datagen.flow(X_train, batch_size=1)\n",
        "\n",
        "augmented_images = [data_iter.__next__()[0].squeeze() for _ in range(5)]\n",
        "\n",
        "# Rescale images for visualization if they are normalized\n",
        "augmented_images = [(img - img.min()) / (img.max() - img.min()) for img in augmented_images]\n",
        "\n",
        "# Plot the augmented images\n",
        "plt.figure(figsize=(10, 5))\n",
        "for i in range(5):\n",
        "    plt.subplot(1, 5, i+1)\n",
        "    plt.imshow(augmented_images[i], cmap='gray')  # Ensure grayscale\n",
        "    plt.axis('off')\n",
        "\n",
        "plt.show()\n"
      ]
    },
    {
      "cell_type": "code",
      "execution_count": 56,
      "metadata": {
        "colab": {
          "base_uri": "https://localhost:8080/",
          "height": 602
        },
        "id": "-dFgugTTKwcD",
        "outputId": "c05b5062-9f34-4fc7-fe6c-ff8f2ab72dcf"
      },
      "outputs": [
        {
          "output_type": "stream",
          "name": "stderr",
          "text": [
            "<ipython-input-56-0c9e83dd39bb>:19: FutureWarning: \n",
            "\n",
            "Passing `palette` without assigning `hue` is deprecated and will be removed in v0.14.0. Assign the `x` variable to `hue` and set `legend=False` for the same effect.\n",
            "\n",
            "  sns.barplot(x=classes, y=counts, palette=\"viridis\")\n"
          ]
        },
        {
          "output_type": "display_data",
          "data": {
            "text/plain": [
              "<Figure size 800x500 with 1 Axes>"
            ],
            "image/png": "[encoded data removed]"
          },
          "metadata": {}
        },
        {
          "output_type": "stream",
          "name": "stdout",
          "text": [
            "Class distribution: Counter({0.0: 1416, 1.0: 472})\n"
          ]
        }
      ],
      "source": [
        "import numpy as np\n",
        "import matplotlib.pyplot as plt\n",
        "import seaborn as sns\n",
        "from collections import Counter\n",
        "\n",
        "# Convert NumPy array to a flat list\n",
        "y_train_list = np.ravel(y_train).tolist()\n",
        "\n",
        "# Count occurrences of each class\n",
        "class_counts = Counter(y_train_list)\n",
        "classes, counts = zip(*sorted(class_counts.items()))  # Sorting class labels\n",
        "\n",
        "# Calculate percentages\n",
        "total_samples = sum(counts)\n",
        "percentages = [count / total_samples * 100 for count in counts]\n",
        "\n",
        "# Plot the distribution with enhancements\n",
        "plt.figure(figsize=(8, 5))\n",
        "sns.barplot(x=classes, y=counts, palette=\"viridis\")\n",
        "\n",
        "# Add text labels\n",
        "for i, (count, percent) in enumerate(zip(counts, percentages)):\n",
        "    plt.text(i, count + 10, f\"{count} ({percent:.1f}%)\", ha=\"center\", fontsize=12, fontweight=\"bold\")\n",
        "\n",
        "# Formatting the plot\n",
        "plt.xlabel(\"Fault Type\", fontsize=14, fontweight=\"bold\")\n",
        "plt.ylabel(\"Number of Images\", fontsize=14, fontweight=\"bold\")\n",
        "plt.title(\"Class Distribution\", fontsize=16, fontweight=\"bold\")\n",
        "plt.grid(axis=\"y\", linestyle=\"--\", alpha=0.7)\n",
        "plt.xticks(fontsize=12)\n",
        "plt.yticks(fontsize=12)\n",
        "plt.show()\n",
        "\n",
        "# Print exact class counts\n",
        "print(\"Class distribution:\", class_counts)\n"
      ]
    },
    {
      "cell_type": "code",
      "source": [
        "from tensorflow.keras.preprocessing.image import ImageDataGenerator\n",
        "\n",
        "# Set path to test dataset\n",
        "test_dir = \"/content/drive/My Drive/spectrograms\" # Change this to your test images path\n",
        "\n",
        "# Define ImageDataGenerator\n",
        "test_datagen = ImageDataGenerator(rescale=1./255)\n",
        "\n",
        "# Create test generator\n",
        "test_generator = test_datagen.flow_from_directory(\n",
        "    test_dir,\n",
        "    target_size=(150, 151),  # Ensure this matches your model input size\n",
        "    color_mode=\"grayscale\",\n",
        "    batch_size=32,\n",
        "    class_mode=\"categorical\",\n",
        "    shuffle=False  # Important! Keep order for correct evaluation\n",
        ")\n",
        "\n",
        "# Get true labels\n",
        "y_true = test_generator.classes\n"
      ],
      "metadata": {
        "colab": {
          "base_uri": "https://localhost:8080/"
        },
        "id": "SL3-tAaOur78",
        "outputId": "23342430-4c4e-408f-f686-5a56223e7182"
      },
      "execution_count": 48,
      "outputs": [
        {
          "output_type": "stream",
          "name": "stdout",
          "text": [
            "Found 591 images belonging to 4 classes.\n"
          ]
        }
      ]
    },
    {
      "cell_type": "code",
      "source": [
        "y_true = test_generator.classes  # Actual class labels from test data\n"
      ],
      "metadata": {
        "id": "-fsqYR5FvR5z"
      },
      "execution_count": 49,
      "outputs": []
    },
    {
      "cell_type": "code",
      "source": [
        "print(model.input_shape)\n"
      ],
      "metadata": {
        "colab": {
          "base_uri": "https://localhost:8080/"
        },
        "id": "knAOm0q7wFw_",
        "outputId": "83bad891-3e87-4ec0-91a3-5a5d52176bbf"
      },
      "execution_count": 52,
      "outputs": [
        {
          "output_type": "stream",
          "name": "stdout",
          "text": [
            "(None, 128, 128, 1)\n"
          ]
        }
      ]
    },
    {
      "cell_type": "code",
      "source": [
        "test_generator = test_datagen.flow_from_directory(\n",
        "    test_dir,\n",
        "    target_size=(128, 128),  # Updated to match model input shape\n",
        "    color_mode=\"grayscale\",\n",
        "    batch_size=32,\n",
        "    class_mode=\"categorical\",\n",
        "    shuffle=False\n",
        ")\n"
      ],
      "metadata": {
        "colab": {
          "base_uri": "https://localhost:8080/"
        },
        "id": "3CRfnx3jwRWF",
        "outputId": "e24eb3cf-df45-4ca9-f88e-85fcd0e87e5b"
      },
      "execution_count": 53,
      "outputs": [
        {
          "output_type": "stream",
          "name": "stdout",
          "text": [
            "Found 591 images belonging to 4 classes.\n"
          ]
        }
      ]
    },
    {
      "cell_type": "code",
      "source": [
        "import numpy as np\n",
        "import matplotlib.pyplot as plt\n",
        "import seaborn as sns\n",
        "from sklearn.metrics import confusion_matrix, classification_report\n",
        "\n",
        "# Get true labels from test data\n",
        "y_true = test_generator.classes\n",
        "\n",
        "# Predict class probabilities\n",
        "y_probs = model.predict(test_generator, verbose=1)\n",
        "\n",
        "# Convert probabilities to class labels\n",
        "y_pred = np.argmax(y_probs, axis=1)\n",
        "\n",
        "# Define class labels\n",
        "labels = list(test_generator.class_indices.keys())\n",
        "\n",
        "# Compute confusion matrix\n",
        "cm = confusion_matrix(y_true, y_pred)\n",
        "\n",
        "# Plot confusion matrix\n",
        "plt.figure(figsize=(6,5))\n",
        "sns.heatmap(cm, annot=True, fmt=\"d\", cmap=\"Blues\", xticklabels=labels, yticklabels=labels)\n",
        "plt.xlabel(\"Predicted Label\")\n",
        "plt.ylabel(\"True Label\")\n",
        "plt.title(\"Confusion Matrix\")\n",
        "plt.show()\n",
        "\n",
        "# Print classification report\n",
        "print(classification_report(y_true, y_pred, target_names=labels))\n"
      ],
      "metadata": {
        "colab": {
          "base_uri": "https://localhost:8080/",
          "height": 695
        },
        "id": "h0z8Z10HwaNL",
        "outputId": "7e2ce1b1-c58a-414f-f694-c823a62d23c6"
      },
      "execution_count": 54,
      "outputs": [
        {
          "output_type": "stream",
          "name": "stdout",
          "text": [
            "\u001b[1m19/19\u001b[0m \u001b[32m━━━━━━━━━━━━━━━━━━━━\u001b[0m\u001b[37m\u001b[0m \u001b[1m11s\u001b[0m 527ms/step\n"
          ]
        },
        {
          "output_type": "display_data",
          "data": {
            "text/plain": [
              "<Figure size 600x500 with 2 Axes>"
            ],
            "image/png": "[encoded data removed]"
          },
          "metadata": {}
        },
        {
          "output_type": "stream",
          "name": "stdout",
          "text": [
            "              precision    recall  f1-score   support\n",
            "\n",
            "      Arcing       0.88      0.99      0.93       116\n",
            "      Corona       0.95      0.90      0.93       141\n",
            "   Looseness       0.99      0.92      0.95       165\n",
            "    Tracking       0.91      0.94      0.92       169\n",
            "\n",
            "    accuracy                           0.93       591\n",
            "   macro avg       0.93      0.94      0.93       591\n",
            "weighted avg       0.94      0.93      0.93       591\n",
            "\n"
          ]
        }
      ]
    },
    {
      "cell_type": "code",
      "source": [
        "import numpy as np\n",
        "import tensorflow as tf\n",
        "from tensorflow.keras.preprocessing import image\n",
        "\n",
        "# Load the uploaded image\n",
        "img_path = \"/content/drive/My Drive/sample_spectrogram.png\"  # Path to uploaded image\n",
        "img = image.load_img(img_path, target_size=(128, 128), color_mode=\"grayscale\")  # Resize & convert to grayscale\n",
        "img_array = image.img_to_array(img) / 255.0  # Normalize\n",
        "img_array = np.expand_dims(img_array, axis=0)  # Add batch dimension\n",
        "\n",
        "# Predict using the trained model\n",
        "prediction = model.predict(img_array)\n",
        "predicted_class = np.argmax(prediction, axis=1)[0]\n",
        "\n",
        "# Get class labels from your test_generator\n",
        "class_labels = list(test_generator.class_indices.keys())\n",
        "\n",
        "# Display the result\n",
        "print(f\"Predicted Fault: {class_labels[predicted_class]}\")\n",
        "print(f\"Confidence Scores: {prediction}\")\n"
      ],
      "metadata": {
        "colab": {
          "base_uri": "https://localhost:8080/"
        },
        "id": "v0sDSYQGw1hb",
        "outputId": "050a6137-1dee-44cb-c19b-0de77178e8c2"
      },
      "execution_count": 55,
      "outputs": [
        {
          "output_type": "stream",
          "name": "stdout",
          "text": [
            "\u001b[1m1/1\u001b[0m \u001b[32m━━━━━━━━━━━━━━━━━━━━\u001b[0m\u001b[37m\u001b[0m \u001b[1m0s\u001b[0m 120ms/step\n",
            "Predicted Fault: Arcing\n",
            "Confidence Scores: [[9.9999666e-01 3.7954152e-08 1.5935939e-07 3.1983625e-06]]\n"
          ]
        }
      ]
    }
  ],
  "metadata": {
    "colab": {
      "provenance": []
    },
    "kernelspec": {
      "display_name": "Python 3",
      "name": "python3"
    },
    "language_info": {
      "name": "python"
    }
  },
  "nbformat": 4,
  "nbformat_minor": 0
}